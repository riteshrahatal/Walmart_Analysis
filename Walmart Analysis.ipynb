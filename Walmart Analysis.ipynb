{
 "cells": [
  {
   "cell_type": "markdown",
   "metadata": {},
   "source": [
    " # WALMART ANALYSIS\n",
    " \n",
    " \n",
    "## Problem Statement 1:\n",
    "     \n",
    "\n",
    " \n"
   ]
  },
  {
   "cell_type": "markdown",
   "metadata": {},
   "source": [
    "### A retail store that has multiple outlets across the country are facing issues in managing the inventory - to match the demand with respect to supply. You are a data scientist, who has to come up with useful insights using the data and make prediction models to forecast the sales for X number of months/years."
   ]
  },
  {
   "cell_type": "markdown",
   "metadata": {},
   "source": [
    "   \n",
    "  ---"
   ]
  },
  {
   "cell_type": "markdown",
   "metadata": {},
   "source": [
    "  ### Dataset Information : "
   ]
  },
  {
   "cell_type": "markdown",
   "metadata": {},
   "source": [
    "\n",
    "- Store - the store number\n",
    "\n",
    "- Date - the week of sales\n",
    "\n",
    "- Weekly_Sales -  sales for the given store\n",
    "\n",
    "- Holiday_Flag - whether the week is a special holiday week 1 – Holiday week 0 – Non-holiday week\n",
    "\n",
    "- Temperature - Temperature on the day of sale\n",
    "\n",
    "- Fuel_Price - Cost of fuel in the region\n",
    "\n",
    "- CPI – Prevailing consumer price index\n",
    "\n",
    "- Unemployment - Prevailing unemployment rate"
   ]
  },
  {
   "cell_type": "markdown",
   "metadata": {},
   "source": [
    "\n",
    "\n",
    "  ---"
   ]
  },
  {
   "cell_type": "markdown",
   "metadata": {},
   "source": [
    " ## 1.Data Preparation :"
   ]
  },
  {
   "cell_type": "markdown",
   "metadata": {},
   "source": [
    "##### Loading required libraries :"
   ]
  },
  {
   "cell_type": "code",
   "execution_count": 1,
   "metadata": {
    "execution": {
     "iopub.execute_input": "2021-07-31T10:35:06.629731Z",
     "iopub.status.busy": "2021-07-31T10:35:06.629379Z",
     "iopub.status.idle": "2021-07-31T10:35:06.638812Z",
     "shell.execute_reply": "2021-07-31T10:35:06.636665Z",
     "shell.execute_reply.started": "2021-07-31T10:35:06.629702Z"
    }
   },
   "outputs": [],
   "source": [
    "import numpy as np\n",
    "import pandas as pd\n",
    "import matplotlib.pyplot as plt\n",
    "%matplotlib inline\n",
    "from matplotlib import dates\n",
    "from datetime import datetime\n",
    "import sklearn\n",
    "import seaborn as sns"
   ]
  },
  {
   "cell_type": "markdown",
   "metadata": {},
   "source": [
    "##### Importing the dataset :"
   ]
  },
  {
   "cell_type": "code",
   "execution_count": 2,
   "metadata": {
    "execution": {
     "iopub.execute_input": "2021-07-31T10:35:06.677915Z",
     "iopub.status.busy": "2021-07-31T10:35:06.677543Z",
     "iopub.status.idle": "2021-07-31T10:35:06.739652Z",
     "shell.execute_reply": "2021-07-31T10:35:06.738287Z",
     "shell.execute_reply.started": "2021-07-31T10:35:06.677884Z"
    }
   },
   "outputs": [
    {
     "data": {
      "text/html": [
       "<div>\n",
       "<style scoped>\n",
       "    .dataframe tbody tr th:only-of-type {\n",
       "        vertical-align: middle;\n",
       "    }\n",
       "\n",
       "    .dataframe tbody tr th {\n",
       "        vertical-align: top;\n",
       "    }\n",
       "\n",
       "    .dataframe thead th {\n",
       "        text-align: right;\n",
       "    }\n",
       "</style>\n",
       "<table border=\"1\" class=\"dataframe\">\n",
       "  <thead>\n",
       "    <tr style=\"text-align: right;\">\n",
       "      <th></th>\n",
       "      <th>Store</th>\n",
       "      <th>Date</th>\n",
       "      <th>Weekly_Sales</th>\n",
       "      <th>Holiday_Flag</th>\n",
       "      <th>Temperature</th>\n",
       "      <th>Fuel_Price</th>\n",
       "      <th>CPI</th>\n",
       "      <th>Unemployment</th>\n",
       "    </tr>\n",
       "  </thead>\n",
       "  <tbody>\n",
       "    <tr>\n",
       "      <th>0</th>\n",
       "      <td>1</td>\n",
       "      <td>05-02-2010</td>\n",
       "      <td>1643690.90</td>\n",
       "      <td>0</td>\n",
       "      <td>42.31</td>\n",
       "      <td>2.572</td>\n",
       "      <td>211.096358</td>\n",
       "      <td>8.106</td>\n",
       "    </tr>\n",
       "    <tr>\n",
       "      <th>1</th>\n",
       "      <td>1</td>\n",
       "      <td>12-02-2010</td>\n",
       "      <td>1641957.44</td>\n",
       "      <td>1</td>\n",
       "      <td>38.51</td>\n",
       "      <td>2.548</td>\n",
       "      <td>211.242170</td>\n",
       "      <td>8.106</td>\n",
       "    </tr>\n",
       "    <tr>\n",
       "      <th>2</th>\n",
       "      <td>1</td>\n",
       "      <td>19-02-2010</td>\n",
       "      <td>1611968.17</td>\n",
       "      <td>0</td>\n",
       "      <td>39.93</td>\n",
       "      <td>2.514</td>\n",
       "      <td>211.289143</td>\n",
       "      <td>8.106</td>\n",
       "    </tr>\n",
       "    <tr>\n",
       "      <th>3</th>\n",
       "      <td>1</td>\n",
       "      <td>26-02-2010</td>\n",
       "      <td>1409727.59</td>\n",
       "      <td>0</td>\n",
       "      <td>46.63</td>\n",
       "      <td>2.561</td>\n",
       "      <td>211.319643</td>\n",
       "      <td>8.106</td>\n",
       "    </tr>\n",
       "    <tr>\n",
       "      <th>4</th>\n",
       "      <td>1</td>\n",
       "      <td>05-03-2010</td>\n",
       "      <td>1554806.68</td>\n",
       "      <td>0</td>\n",
       "      <td>46.50</td>\n",
       "      <td>2.625</td>\n",
       "      <td>211.350143</td>\n",
       "      <td>8.106</td>\n",
       "    </tr>\n",
       "  </tbody>\n",
       "</table>\n",
       "</div>"
      ],
      "text/plain": [
       "   Store        Date  Weekly_Sales  Holiday_Flag  Temperature  Fuel_Price  \\\n",
       "0      1  05-02-2010    1643690.90             0        42.31       2.572   \n",
       "1      1  12-02-2010    1641957.44             1        38.51       2.548   \n",
       "2      1  19-02-2010    1611968.17             0        39.93       2.514   \n",
       "3      1  26-02-2010    1409727.59             0        46.63       2.561   \n",
       "4      1  05-03-2010    1554806.68             0        46.50       2.625   \n",
       "\n",
       "          CPI  Unemployment  \n",
       "0  211.096358         8.106  \n",
       "1  211.242170         8.106  \n",
       "2  211.289143         8.106  \n",
       "3  211.319643         8.106  \n",
       "4  211.350143         8.106  "
      ]
     },
     "execution_count": 2,
     "metadata": {},
     "output_type": "execute_result"
    }
   ],
   "source": [
    "walmart_data = pd.read_csv('Walmart (1).csv')\n",
    "walmart_data.head()"
   ]
  },
  {
   "cell_type": "markdown",
   "metadata": {},
   "source": [
    "##### Viewing Data Information :"
   ]
  },
  {
   "cell_type": "code",
   "execution_count": 3,
   "metadata": {
    "execution": {
     "iopub.execute_input": "2021-07-31T10:35:06.743701Z",
     "iopub.status.busy": "2021-07-31T10:35:06.74335Z",
     "iopub.status.idle": "2021-07-31T10:35:06.776909Z",
     "shell.execute_reply": "2021-07-31T10:35:06.775362Z",
     "shell.execute_reply.started": "2021-07-31T10:35:06.743669Z"
    },
    "scrolled": true
   },
   "outputs": [
    {
     "name": "stdout",
     "output_type": "stream",
     "text": [
      "<class 'pandas.core.frame.DataFrame'>\n",
      "RangeIndex: 6435 entries, 0 to 6434\n",
      "Data columns (total 8 columns):\n",
      " #   Column        Non-Null Count  Dtype         \n",
      "---  ------        --------------  -----         \n",
      " 0   Store         6435 non-null   int64         \n",
      " 1   Date          6435 non-null   datetime64[ns]\n",
      " 2   Weekly_Sales  6435 non-null   float64       \n",
      " 3   Holiday_Flag  6435 non-null   int64         \n",
      " 4   Temperature   6435 non-null   float64       \n",
      " 5   Fuel_Price    6435 non-null   float64       \n",
      " 6   CPI           6435 non-null   float64       \n",
      " 7   Unemployment  6435 non-null   float64       \n",
      "dtypes: datetime64[ns](1), float64(5), int64(2)\n",
      "memory usage: 402.3 KB\n"
     ]
    }
   ],
   "source": [
    "# Convert date to datetime format \n",
    "walmart_data['Date'] =  pd.to_datetime(walmart_data['Date'])\n",
    "walmart_data.info()"
   ]
  },
  {
   "cell_type": "markdown",
   "metadata": {},
   "source": [
    "##### Checking for missing values :"
   ]
  },
  {
   "cell_type": "code",
   "execution_count": 4,
   "metadata": {
    "execution": {
     "iopub.execute_input": "2021-07-31T10:35:06.779299Z",
     "iopub.status.busy": "2021-07-31T10:35:06.778929Z",
     "iopub.status.idle": "2021-07-31T10:35:06.790351Z",
     "shell.execute_reply": "2021-07-31T10:35:06.788522Z",
     "shell.execute_reply.started": "2021-07-31T10:35:06.779262Z"
    }
   },
   "outputs": [
    {
     "data": {
      "text/plain": [
       "Store           0\n",
       "Date            0\n",
       "Weekly_Sales    0\n",
       "Holiday_Flag    0\n",
       "Temperature     0\n",
       "Fuel_Price      0\n",
       "CPI             0\n",
       "Unemployment    0\n",
       "dtype: int64"
      ]
     },
     "execution_count": 4,
     "metadata": {},
     "output_type": "execute_result"
    }
   ],
   "source": [
    "walmart_data.isnull().sum()"
   ]
  },
  {
   "cell_type": "markdown",
   "metadata": {},
   "source": [
    "##### Splitting date column into day, month and year :"
   ]
  },
  {
   "cell_type": "code",
   "execution_count": 5,
   "metadata": {
    "execution": {
     "iopub.execute_input": "2021-07-31T10:35:06.793772Z",
     "iopub.status.busy": "2021-07-31T10:35:06.793177Z",
     "iopub.status.idle": "2021-07-31T10:35:06.831802Z",
     "shell.execute_reply": "2021-07-31T10:35:06.830643Z",
     "shell.execute_reply.started": "2021-07-31T10:35:06.793687Z"
    }
   },
   "outputs": [
    {
     "data": {
      "text/html": [
       "<div>\n",
       "<style scoped>\n",
       "    .dataframe tbody tr th:only-of-type {\n",
       "        vertical-align: middle;\n",
       "    }\n",
       "\n",
       "    .dataframe tbody tr th {\n",
       "        vertical-align: top;\n",
       "    }\n",
       "\n",
       "    .dataframe thead th {\n",
       "        text-align: right;\n",
       "    }\n",
       "</style>\n",
       "<table border=\"1\" class=\"dataframe\">\n",
       "  <thead>\n",
       "    <tr style=\"text-align: right;\">\n",
       "      <th></th>\n",
       "      <th>Store</th>\n",
       "      <th>Date</th>\n",
       "      <th>Weekly_Sales</th>\n",
       "      <th>Holiday_Flag</th>\n",
       "      <th>Temperature</th>\n",
       "      <th>Fuel_Price</th>\n",
       "      <th>CPI</th>\n",
       "      <th>Unemployment</th>\n",
       "      <th>Day</th>\n",
       "      <th>Month</th>\n",
       "      <th>Year</th>\n",
       "    </tr>\n",
       "  </thead>\n",
       "  <tbody>\n",
       "    <tr>\n",
       "      <th>0</th>\n",
       "      <td>1</td>\n",
       "      <td>2010-05-02</td>\n",
       "      <td>1643690.90</td>\n",
       "      <td>0</td>\n",
       "      <td>42.31</td>\n",
       "      <td>2.572</td>\n",
       "      <td>211.096358</td>\n",
       "      <td>8.106</td>\n",
       "      <td>2</td>\n",
       "      <td>5</td>\n",
       "      <td>2010</td>\n",
       "    </tr>\n",
       "    <tr>\n",
       "      <th>1</th>\n",
       "      <td>1</td>\n",
       "      <td>2010-12-02</td>\n",
       "      <td>1641957.44</td>\n",
       "      <td>1</td>\n",
       "      <td>38.51</td>\n",
       "      <td>2.548</td>\n",
       "      <td>211.242170</td>\n",
       "      <td>8.106</td>\n",
       "      <td>2</td>\n",
       "      <td>12</td>\n",
       "      <td>2010</td>\n",
       "    </tr>\n",
       "    <tr>\n",
       "      <th>2</th>\n",
       "      <td>1</td>\n",
       "      <td>2010-02-19</td>\n",
       "      <td>1611968.17</td>\n",
       "      <td>0</td>\n",
       "      <td>39.93</td>\n",
       "      <td>2.514</td>\n",
       "      <td>211.289143</td>\n",
       "      <td>8.106</td>\n",
       "      <td>19</td>\n",
       "      <td>2</td>\n",
       "      <td>2010</td>\n",
       "    </tr>\n",
       "    <tr>\n",
       "      <th>3</th>\n",
       "      <td>1</td>\n",
       "      <td>2010-02-26</td>\n",
       "      <td>1409727.59</td>\n",
       "      <td>0</td>\n",
       "      <td>46.63</td>\n",
       "      <td>2.561</td>\n",
       "      <td>211.319643</td>\n",
       "      <td>8.106</td>\n",
       "      <td>26</td>\n",
       "      <td>2</td>\n",
       "      <td>2010</td>\n",
       "    </tr>\n",
       "    <tr>\n",
       "      <th>4</th>\n",
       "      <td>1</td>\n",
       "      <td>2010-05-03</td>\n",
       "      <td>1554806.68</td>\n",
       "      <td>0</td>\n",
       "      <td>46.50</td>\n",
       "      <td>2.625</td>\n",
       "      <td>211.350143</td>\n",
       "      <td>8.106</td>\n",
       "      <td>3</td>\n",
       "      <td>5</td>\n",
       "      <td>2010</td>\n",
       "    </tr>\n",
       "    <tr>\n",
       "      <th>...</th>\n",
       "      <td>...</td>\n",
       "      <td>...</td>\n",
       "      <td>...</td>\n",
       "      <td>...</td>\n",
       "      <td>...</td>\n",
       "      <td>...</td>\n",
       "      <td>...</td>\n",
       "      <td>...</td>\n",
       "      <td>...</td>\n",
       "      <td>...</td>\n",
       "      <td>...</td>\n",
       "    </tr>\n",
       "    <tr>\n",
       "      <th>6430</th>\n",
       "      <td>45</td>\n",
       "      <td>2012-09-28</td>\n",
       "      <td>713173.95</td>\n",
       "      <td>0</td>\n",
       "      <td>64.88</td>\n",
       "      <td>3.997</td>\n",
       "      <td>192.013558</td>\n",
       "      <td>8.684</td>\n",
       "      <td>28</td>\n",
       "      <td>9</td>\n",
       "      <td>2012</td>\n",
       "    </tr>\n",
       "    <tr>\n",
       "      <th>6431</th>\n",
       "      <td>45</td>\n",
       "      <td>2012-05-10</td>\n",
       "      <td>733455.07</td>\n",
       "      <td>0</td>\n",
       "      <td>64.89</td>\n",
       "      <td>3.985</td>\n",
       "      <td>192.170412</td>\n",
       "      <td>8.667</td>\n",
       "      <td>10</td>\n",
       "      <td>5</td>\n",
       "      <td>2012</td>\n",
       "    </tr>\n",
       "    <tr>\n",
       "      <th>6432</th>\n",
       "      <td>45</td>\n",
       "      <td>2012-12-10</td>\n",
       "      <td>734464.36</td>\n",
       "      <td>0</td>\n",
       "      <td>54.47</td>\n",
       "      <td>4.000</td>\n",
       "      <td>192.327265</td>\n",
       "      <td>8.667</td>\n",
       "      <td>10</td>\n",
       "      <td>12</td>\n",
       "      <td>2012</td>\n",
       "    </tr>\n",
       "    <tr>\n",
       "      <th>6433</th>\n",
       "      <td>45</td>\n",
       "      <td>2012-10-19</td>\n",
       "      <td>718125.53</td>\n",
       "      <td>0</td>\n",
       "      <td>56.47</td>\n",
       "      <td>3.969</td>\n",
       "      <td>192.330854</td>\n",
       "      <td>8.667</td>\n",
       "      <td>19</td>\n",
       "      <td>10</td>\n",
       "      <td>2012</td>\n",
       "    </tr>\n",
       "    <tr>\n",
       "      <th>6434</th>\n",
       "      <td>45</td>\n",
       "      <td>2012-10-26</td>\n",
       "      <td>760281.43</td>\n",
       "      <td>0</td>\n",
       "      <td>58.85</td>\n",
       "      <td>3.882</td>\n",
       "      <td>192.308899</td>\n",
       "      <td>8.667</td>\n",
       "      <td>26</td>\n",
       "      <td>10</td>\n",
       "      <td>2012</td>\n",
       "    </tr>\n",
       "  </tbody>\n",
       "</table>\n",
       "<p>6435 rows × 11 columns</p>\n",
       "</div>"
      ],
      "text/plain": [
       "      Store       Date  Weekly_Sales  Holiday_Flag  Temperature  Fuel_Price  \\\n",
       "0         1 2010-05-02    1643690.90             0        42.31       2.572   \n",
       "1         1 2010-12-02    1641957.44             1        38.51       2.548   \n",
       "2         1 2010-02-19    1611968.17             0        39.93       2.514   \n",
       "3         1 2010-02-26    1409727.59             0        46.63       2.561   \n",
       "4         1 2010-05-03    1554806.68             0        46.50       2.625   \n",
       "...     ...        ...           ...           ...          ...         ...   \n",
       "6430     45 2012-09-28     713173.95             0        64.88       3.997   \n",
       "6431     45 2012-05-10     733455.07             0        64.89       3.985   \n",
       "6432     45 2012-12-10     734464.36             0        54.47       4.000   \n",
       "6433     45 2012-10-19     718125.53             0        56.47       3.969   \n",
       "6434     45 2012-10-26     760281.43             0        58.85       3.882   \n",
       "\n",
       "             CPI  Unemployment  Day  Month  Year  \n",
       "0     211.096358         8.106    2      5  2010  \n",
       "1     211.242170         8.106    2     12  2010  \n",
       "2     211.289143         8.106   19      2  2010  \n",
       "3     211.319643         8.106   26      2  2010  \n",
       "4     211.350143         8.106    3      5  2010  \n",
       "...          ...           ...  ...    ...   ...  \n",
       "6430  192.013558         8.684   28      9  2012  \n",
       "6431  192.170412         8.667   10      5  2012  \n",
       "6432  192.327265         8.667   10     12  2012  \n",
       "6433  192.330854         8.667   19     10  2012  \n",
       "6434  192.308899         8.667   26     10  2012  \n",
       "\n",
       "[6435 rows x 11 columns]"
      ]
     },
     "execution_count": 5,
     "metadata": {},
     "output_type": "execute_result"
    }
   ],
   "source": [
    "walmart_data[\"Day\"]= pd.DatetimeIndex(walmart_data['Date']).day\n",
    "walmart_data['Month'] = pd.DatetimeIndex(walmart_data['Date']).month\n",
    "walmart_data['Year'] = pd.DatetimeIndex(walmart_data['Date']).year\n",
    "walmart_data"
   ]
  },
  {
   "cell_type": "markdown",
   "metadata": {},
   "source": [
    " \n",
    "  ---"
   ]
  },
  {
   "cell_type": "markdown",
   "metadata": {},
   "source": [
    " ## 2. Data Analysis :"
   ]
  },
  {
   "cell_type": "markdown",
   "metadata": {},
   "source": [
    "##### 1 ) Which store has maximum sales ?"
   ]
  },
  {
   "cell_type": "code",
   "execution_count": 6,
   "metadata": {
    "execution": {
     "iopub.execute_input": "2021-07-31T10:35:06.834499Z",
     "iopub.status.busy": "2021-07-31T10:35:06.833693Z",
     "iopub.status.idle": "2021-07-31T10:35:07.474423Z",
     "shell.execute_reply": "2021-07-31T10:35:07.473538Z",
     "shell.execute_reply.started": "2021-07-31T10:35:06.834448Z"
    }
   },
   "outputs": [
    {
     "data": {
      "text/plain": [
       "<AxesSubplot:title={'center':'Total sales for each store'}, xlabel='Store', ylabel='Total Sales'>"
      ]
     },
     "execution_count": 6,
     "metadata": {},
     "output_type": "execute_result"
    },
    {
     "data": {
      "image/png": "[encoded data removed]",
      "text/plain": [
       "<Figure size 1080x504 with 1 Axes>"
      ]
     },
     "metadata": {
      "needs_background": "light"
     },
     "output_type": "display_data"
    }
   ],
   "source": [
    "total_sales= walmart_data.groupby('Store')['Weekly_Sales'].sum().sort_values() \n",
    "total_sales_array = np.array(total_sales)\n",
    "plt.figure(figsize=(15,7))\n",
    "plt.xticks(rotation=0)\n",
    "plt.ticklabel_format(useOffset=False, style='plain', axis='y')\n",
    "plt.title('Total sales for each store')\n",
    "plt.xlabel('Store')\n",
    "plt.ylabel('Total Sales')\n",
    "total_sales.plot(kind='bar')"
   ]
  },
  {
   "cell_type": "markdown",
   "metadata": {},
   "source": [
    "**Clearly, from the above graph, it is visible that the store which has maximum sales is store number 20 and the store which has minimum sales is the store number 33.**"
   ]
  },
  {
   "cell_type": "markdown",
   "metadata": {},
   "source": [
    " \n",
    "  ---"
   ]
  },
  {
   "cell_type": "markdown",
   "metadata": {},
   "source": [
    "##### 2) Which store has maximum standard deviation? i.e. the sales vary a lot. Also, find out the coefficient of mean to standard deviation."
   ]
  },
  {
   "cell_type": "code",
   "execution_count": 8,
   "metadata": {
    "execution": {
     "iopub.execute_input": "2021-07-31T10:35:07.476087Z",
     "iopub.status.busy": "2021-07-31T10:35:07.475795Z",
     "iopub.status.idle": "2021-07-31T10:35:07.487007Z",
     "shell.execute_reply": "2021-07-31T10:35:07.485829Z",
     "shell.execute_reply.started": "2021-07-31T10:35:07.47606Z"
    }
   },
   "outputs": [
    {
     "data": {
      "text/plain": [
       "(14, 317569.9494755081)"
      ]
     },
     "execution_count": 8,
     "metadata": {},
     "output_type": "execute_result"
    }
   ],
   "source": [
    "walmart_data_std = pd.DataFrame(walmart_data.groupby('Store')['Weekly_Sales'].std().sort_values(ascending=False))\n",
    "walmart_data_std.head(1).index[0] , walmart_data_std.head(1).Weekly_Sales[walmart_data_std.head(1).index[0]]"
   ]
  },
  {
   "cell_type": "markdown",
   "metadata": {},
   "source": [
    "**Thus, the store which has maximum standard deviation is store number 14.**"
   ]
  },
  {
   "cell_type": "code",
   "execution_count": 9,
   "metadata": {
    "execution": {
     "iopub.execute_input": "2021-07-31T10:35:07.489053Z",
     "iopub.status.busy": "2021-07-31T10:35:07.48864Z",
     "iopub.status.idle": "2021-07-31T10:35:07.950615Z",
     "shell.execute_reply": "2021-07-31T10:35:07.949518Z",
     "shell.execute_reply.started": "2021-07-31T10:35:07.489012Z"
    }
   },
   "outputs": [
    {
     "name": "stderr",
     "output_type": "stream",
     "text": [
      "C:\\Users\\Ritesh\\anaconda3\\lib\\site-packages\\seaborn\\distributions.py:2551: FutureWarning: `distplot` is a deprecated function and will be removed in a future version. Please adapt your code to use either `displot` (a figure-level function with similar flexibility) or `histplot` (an axes-level function for histograms).\n",
      "  warnings.warn(msg, FutureWarning)\n"
     ]
    },
    {
     "data": {
      "image/png": "[encoded data removed]",
      "text/plain": [
       "<Figure size 1080x504 with 1 Axes>"
      ]
     },
     "metadata": {
      "needs_background": "light"
     },
     "output_type": "display_data"
    }
   ],
   "source": [
    "# Extracting the sales data for store number 14 and plotting its distribution\n",
    "plt.figure(figsize=(15,7))\n",
    "sns.distplot(walmart_data[walmart_data['Store'] == walmart_data_std.head(1).index[0]]['Weekly_Sales'])\n",
    "plt.title('The Sales Distribution of Store No.'+ str(walmart_data_std.head(1).index[0]))\n",
    "import warnings\n",
    "warnings.filterwarnings('ignore')"
   ]
  },
  {
   "cell_type": "code",
   "execution_count": 10,
   "metadata": {
    "execution": {
     "iopub.execute_input": "2021-07-31T10:35:07.952426Z",
     "iopub.status.busy": "2021-07-31T10:35:07.952073Z",
     "iopub.status.idle": "2021-07-31T10:35:07.970212Z",
     "shell.execute_reply": "2021-07-31T10:35:07.96909Z",
     "shell.execute_reply.started": "2021-07-31T10:35:07.952393Z"
    }
   },
   "outputs": [
    {
     "data": {
      "text/html": [
       "<div>\n",
       "<style scoped>\n",
       "    .dataframe tbody tr th:only-of-type {\n",
       "        vertical-align: middle;\n",
       "    }\n",
       "\n",
       "    .dataframe tbody tr th {\n",
       "        vertical-align: top;\n",
       "    }\n",
       "\n",
       "    .dataframe thead th {\n",
       "        text-align: right;\n",
       "    }\n",
       "</style>\n",
       "<table border=\"1\" class=\"dataframe\">\n",
       "  <thead>\n",
       "    <tr style=\"text-align: right;\">\n",
       "      <th></th>\n",
       "      <th>Coefficient of mean to standard deviation</th>\n",
       "    </tr>\n",
       "    <tr>\n",
       "      <th>Store</th>\n",
       "      <th></th>\n",
       "    </tr>\n",
       "  </thead>\n",
       "  <tbody>\n",
       "    <tr>\n",
       "      <th>35</th>\n",
       "      <td>0.229681</td>\n",
       "    </tr>\n",
       "    <tr>\n",
       "      <th>7</th>\n",
       "      <td>0.197305</td>\n",
       "    </tr>\n",
       "    <tr>\n",
       "      <th>15</th>\n",
       "      <td>0.193384</td>\n",
       "    </tr>\n",
       "    <tr>\n",
       "      <th>29</th>\n",
       "      <td>0.183742</td>\n",
       "    </tr>\n",
       "    <tr>\n",
       "      <th>23</th>\n",
       "      <td>0.179721</td>\n",
       "    </tr>\n",
       "    <tr>\n",
       "      <th>21</th>\n",
       "      <td>0.170292</td>\n",
       "    </tr>\n",
       "    <tr>\n",
       "      <th>45</th>\n",
       "      <td>0.165613</td>\n",
       "    </tr>\n",
       "  </tbody>\n",
       "</table>\n",
       "</div>"
      ],
      "text/plain": [
       "       Coefficient of mean to standard deviation\n",
       "Store                                           \n",
       "35                                      0.229681\n",
       "7                                       0.197305\n",
       "15                                      0.193384\n",
       "29                                      0.183742\n",
       "23                                      0.179721\n",
       "21                                      0.170292\n",
       "45                                      0.165613"
      ]
     },
     "execution_count": 10,
     "metadata": {},
     "output_type": "execute_result"
    }
   ],
   "source": [
    "#Calculating the coefficient of mean to standard deviation\n",
    "coef = pd.DataFrame(walmart_data.groupby('Store')['Weekly_Sales'].std() / walmart_data.groupby('Store')['Weekly_Sales'].mean())\n",
    "coef = coef.rename(columns={'Weekly_Sales':'Coefficient of mean to standard deviation'})\n",
    "coef_max = coef.sort_values(by='Coefficient of mean to standard deviation',ascending=False)\n",
    "coef_max.head(7)"
   ]
  },
  {
   "cell_type": "markdown",
   "metadata": {},
   "source": [
    "**Thus, the store which has maximum coefficient of meanto standard deviation is store number 35.**"
   ]
  },
  {
   "cell_type": "code",
   "execution_count": 11,
   "metadata": {
    "execution": {
     "iopub.execute_input": "2021-07-31T10:35:07.975225Z",
     "iopub.status.busy": "2021-07-31T10:35:07.974897Z",
     "iopub.status.idle": "2021-07-31T10:35:08.228512Z",
     "shell.execute_reply": "2021-07-31T10:35:08.227402Z",
     "shell.execute_reply.started": "2021-07-31T10:35:07.975196Z"
    }
   },
   "outputs": [
    {
     "data": {
      "image/png": "[encoded data removed]",
      "text/plain": [
       "<Figure size 1080x504 with 1 Axes>"
      ]
     },
     "metadata": {
      "needs_background": "light"
     },
     "output_type": "display_data"
    }
   ],
   "source": [
    "# Distribution of store 35 has maximum coefficient of mean to standard deviation\n",
    "plt.figure(figsize=(15,7))\n",
    "sns.distplot(walmart_data[walmart_data['Store'] == coef_max.head(1).index[0]]['Weekly_Sales'])\n",
    "plt.title('The Sales Distribution of Store No.'+str(coef_max.head(1).index[0]))\n",
    "import warnings\n",
    "warnings.filterwarnings('ignore')"
   ]
  },
  {
   "cell_type": "markdown",
   "metadata": {},
   "source": [
    " \n",
    "  ---"
   ]
  },
  {
   "cell_type": "markdown",
   "metadata": {},
   "source": [
    "##### 3) Which store/s has good quarterly growth rate in Q3’2012 ?"
   ]
  },
  {
   "cell_type": "code",
   "execution_count": 12,
   "metadata": {
    "execution": {
     "iopub.execute_input": "2021-07-31T10:35:08.231161Z",
     "iopub.status.busy": "2021-07-31T10:35:08.230735Z",
     "iopub.status.idle": "2021-07-31T10:35:09.130125Z",
     "shell.execute_reply": "2021-07-31T10:35:09.129169Z",
     "shell.execute_reply.started": "2021-07-31T10:35:08.231116Z"
    }
   },
   "outputs": [
    {
     "data": {
      "text/plain": [
       "<matplotlib.legend.Legend at 0x19a19fd3910>"
      ]
     },
     "execution_count": 12,
     "metadata": {},
     "output_type": "execute_result"
    },
    {
     "data": {
      "image/png": "[encoded data removed]",
      "text/plain": [
       "<Figure size 1080x504 with 1 Axes>"
      ]
     },
     "metadata": {
      "needs_background": "light"
     },
     "output_type": "display_data"
    }
   ],
   "source": [
    "# Sales for second and third quarter in 2012\n",
    "quarter_2_sales = walmart_data[(walmart_data['Date'] >= '2012-04-01') & (walmart_data['Date'] <= '2012-06-30')].groupby('Store')['Weekly_Sales'].sum()\n",
    "quarter_3_sales= walmart_data[(walmart_data['Date'] >= '2012-07-01') & (walmart_data['Date'] <= '2012-09-30')].groupby('Store')['Weekly_Sales'].sum()\n",
    "\n",
    "# Plotting the difference between sales for second and third quarterly\n",
    "plt.figure(figsize=(15,7))\n",
    "quarter_2_sales.plot(ax=quarter_3_sales.plot(kind ='bar'),kind='bar',color='g',alpha=0.2,legend=True)\n",
    "plt.legend([\"Q3' 2012\", \"Q2' 2012\"])\n"
   ]
  },
  {
   "cell_type": "markdown",
   "metadata": {},
   "source": [
    "**Clearly, from the above graph, it is evident that the store which has good quarterly sales in Q3’2012 is store no. 4.**"
   ]
  },
  {
   "cell_type": "code",
   "execution_count": 13,
   "metadata": {
    "execution": {
     "iopub.execute_input": "2021-07-31T10:35:09.131996Z",
     "iopub.status.busy": "2021-07-31T10:35:09.131583Z",
     "iopub.status.idle": "2021-07-31T10:35:09.152288Z",
     "shell.execute_reply": "2021-07-31T10:35:09.151346Z",
     "shell.execute_reply.started": "2021-07-31T10:35:09.131941Z"
    }
   },
   "outputs": [
    {
     "data": {
      "text/plain": [
       "Store\n",
       "16   -2.789294\n",
       "7    -3.824738\n",
       "35   -4.663086\n",
       "26   -6.057624\n",
       "39   -6.396875\n",
       "Name: Weekly_Sales, dtype: float64"
      ]
     },
     "execution_count": 13,
     "metadata": {},
     "output_type": "execute_result"
    }
   ],
   "source": [
    "#Calculating Growth rate in Q3'2012\n",
    "quarter_2_sales= walmart_data[(walmart_data['Date'] >= '2012-04-01') & (walmart_data['Date'] <= '2012-06-30')].groupby('Store')['Weekly_Sales'].sum()\n",
    "quarter_3_sales= walmart_data[(walmart_data['Date'] >= '2012-07-01') & (walmart_data['Date'] <= '2012-09-30')].groupby('Store')['Weekly_Sales'].sum()\n",
    "quarterly_growth_rate = ((quarter_3_sales - quarter_2_sales )/quarter_2_sales)*100\n",
    "quarterly_growth_rate.sort_values(ascending=False).head()\n"
   ]
  },
  {
   "cell_type": "code",
   "execution_count": 14,
   "metadata": {
    "execution": {
     "iopub.execute_input": "2021-07-31T10:35:09.154036Z",
     "iopub.status.busy": "2021-07-31T10:35:09.153744Z",
     "iopub.status.idle": "2021-07-31T10:35:09.711873Z",
     "shell.execute_reply": "2021-07-31T10:35:09.710574Z",
     "shell.execute_reply.started": "2021-07-31T10:35:09.154009Z"
    }
   },
   "outputs": [
    {
     "data": {
      "text/plain": [
       "<AxesSubplot:xlabel='Store'>"
      ]
     },
     "execution_count": 14,
     "metadata": {},
     "output_type": "execute_result"
    },
    {
     "data": {
      "image/png": "[encoded data removed]",
      "text/plain": [
       "<Figure size 1080x504 with 1 Axes>"
      ]
     },
     "metadata": {
      "needs_background": "light"
     },
     "output_type": "display_data"
    }
   ],
   "source": [
    "plt.figure(figsize=(15,7))\n",
    "quarterly_growth_rate.sort_values(ascending=False).plot(kind='bar')"
   ]
  },
  {
   "cell_type": "markdown",
   "metadata": {},
   "source": [
    "**Here, there is no store which has performed better in the 3rd quarter as compared to the 2nd quarter.**"
   ]
  },
  {
   "cell_type": "markdown",
   "metadata": {},
   "source": [
    " \n",
    "  ---"
   ]
  },
  {
   "cell_type": "markdown",
   "metadata": {},
   "source": [
    "##### 4) Some holidays have a negative impact on sales. Find out holidays which have higher sales than the mean sales in non-holiday season for all stores together."
   ]
  },
  {
   "cell_type": "markdown",
   "metadata": {},
   "source": [
    "**Holiday Events:**\n",
    "\n",
    "- Super Bowl: 12-Feb-10, 11-Feb-11, 10-Feb-12, 8-Feb-13\n",
    "\n",
    "- Labour Day: 10-Sep-10, 9-Sep-11, 7-Sep-12, 6-Sep-13\n",
    "\n",
    "- Thanksgiving: 26-Nov-10, 25-Nov-11, 23-Nov-12, 29-Nov-13\n",
    "\n",
    "- Christmas: 31-Dec-10, 30-Dec-11, 28-Dec-12, 27-Dec-13"
   ]
  },
  {
   "cell_type": "code",
   "execution_count": 15,
   "metadata": {
    "execution": {
     "iopub.execute_input": "2021-07-31T10:35:09.713973Z",
     "iopub.status.busy": "2021-07-31T10:35:09.713544Z",
     "iopub.status.idle": "2021-07-31T10:35:09.720237Z",
     "shell.execute_reply": "2021-07-31T10:35:09.718711Z",
     "shell.execute_reply.started": "2021-07-31T10:35:09.713927Z"
    }
   },
   "outputs": [],
   "source": [
    "#Defining holiday dates\n",
    "Super_Bowl =['12-2-2010', '11-2-2011', '10-2-2012']\n",
    "Labour_Day =  ['10-9-2010', '9-9-2011', '7-9-2012']\n",
    "Thanksgiving =  ['26-11-2010', '25-11-2011', '23-11-2012']\n",
    "Christmas = ['31-12-2010', '30-12-2011', '28-12-2012']"
   ]
  },
  {
   "cell_type": "code",
   "execution_count": 16,
   "metadata": {
    "execution": {
     "iopub.execute_input": "2021-07-31T10:35:09.721848Z",
     "iopub.status.busy": "2021-07-31T10:35:09.721548Z",
     "iopub.status.idle": "2021-07-31T10:35:09.755853Z",
     "shell.execute_reply": "2021-07-31T10:35:09.754767Z",
     "shell.execute_reply.started": "2021-07-31T10:35:09.721819Z"
    }
   },
   "outputs": [
    {
     "data": {
      "text/plain": [
       "(1079127.9877037033, 1042427.2939259257, 1471273.427777778, 960833.1115555551)"
      ]
     },
     "execution_count": 16,
     "metadata": {},
     "output_type": "execute_result"
    }
   ],
   "source": [
    "#Calculating mean sales on holidays : \n",
    "Super_Bowl_Sales = (pd.DataFrame(walmart_data.loc[walmart_data.Date.isin(Super_Bowl)]))['Weekly_Sales'].mean()\n",
    "Labour_Day_Sales = (pd.DataFrame(walmart_data.loc[walmart_data.Date.isin(Labour_Day)]))['Weekly_Sales'].mean()\n",
    "Thanksgiving_Sales = (pd.DataFrame(walmart_data.loc[walmart_data.Date.isin(Thanksgiving)]))['Weekly_Sales'].mean()\n",
    "Christmas_Sales = (pd.DataFrame(walmart_data.loc[walmart_data.Date.isin(Christmas)]))['Weekly_Sales'].mean()\n",
    "Super_Bowl_Sales,Labour_Day_Sales,Thanksgiving_Sales,Christmas_Sales"
   ]
  },
  {
   "cell_type": "code",
   "execution_count": 17,
   "metadata": {
    "execution": {
     "iopub.execute_input": "2021-07-31T10:35:09.757422Z",
     "iopub.status.busy": "2021-07-31T10:35:09.757107Z",
     "iopub.status.idle": "2021-07-31T10:35:09.766613Z",
     "shell.execute_reply": "2021-07-31T10:35:09.765635Z",
     "shell.execute_reply.started": "2021-07-31T10:35:09.757391Z"
    }
   },
   "outputs": [
    {
     "data": {
      "text/plain": [
       "1041256.3802088564"
      ]
     },
     "execution_count": 17,
     "metadata": {},
     "output_type": "execute_result"
    }
   ],
   "source": [
    "#Calculating mean sales on non-holidays :\n",
    "Non_Holiday_Sales = walmart_data[walmart_data['Holiday_Flag'] == 0 ]['Weekly_Sales'].mean()\n",
    "Non_Holiday_Sales"
   ]
  },
  {
   "cell_type": "code",
   "execution_count": 18,
   "metadata": {
    "execution": {
     "iopub.execute_input": "2021-07-31T10:35:09.768173Z",
     "iopub.status.busy": "2021-07-31T10:35:09.767845Z",
     "iopub.status.idle": "2021-07-31T10:35:09.782484Z",
     "shell.execute_reply": "2021-07-31T10:35:09.781389Z",
     "shell.execute_reply.started": "2021-07-31T10:35:09.768139Z"
    }
   },
   "outputs": [
    {
     "data": {
      "text/plain": [
       "{'Super_Bowl_Sales': 1079127.9877037033,\n",
       " 'Labour_Day_Sales': 1042427.2939259257,\n",
       " 'Thanksgiving_Sales': 1471273.427777778,\n",
       " 'Christmas_Sales': 960833.1115555551,\n",
       " 'Non_Holiday_Sales': 1041256.3802088564}"
      ]
     },
     "execution_count": 18,
     "metadata": {},
     "output_type": "execute_result"
    }
   ],
   "source": [
    "Mean_Sales = {'Super_Bowl_Sales' : Super_Bowl_Sales,\n",
    "              'Labour_Day_Sales': Labour_Day_Sales,\n",
    "              'Thanksgiving_Sales':Thanksgiving_Sales,\n",
    "              'Christmas_Sales': Christmas_Sales,\n",
    "              'Non_Holiday_Sales': Non_Holiday_Sales}\n",
    "Mean_Sales "
   ]
  },
  {
   "cell_type": "markdown",
   "metadata": {},
   "source": [
    "**Clearly, Thanksgiving has higher sales than the mean sales on non-holidays.**"
   ]
  },
  {
   "cell_type": "markdown",
   "metadata": {},
   "source": [
    " \n",
    "  ---"
   ]
  },
  {
   "cell_type": "markdown",
   "metadata": {},
   "source": [
    "##### 5) Provide a monthly and semester view of sales in units and give insights."
   ]
  },
  {
   "cell_type": "code",
   "execution_count": 19,
   "metadata": {
    "execution": {
     "iopub.execute_input": "2021-07-31T10:35:09.784246Z",
     "iopub.status.busy": "2021-07-31T10:35:09.783926Z",
     "iopub.status.idle": "2021-07-31T10:35:10.327533Z",
     "shell.execute_reply": "2021-07-31T10:35:10.326529Z",
     "shell.execute_reply.started": "2021-07-31T10:35:09.784212Z"
    }
   },
   "outputs": [
    {
     "data": {
      "image/png": "[encoded data removed]",
      "text/plain": [
       "<Figure size 1080x504 with 1 Axes>"
      ]
     },
     "metadata": {
      "needs_background": "light"
     },
     "output_type": "display_data"
    },
    {
     "data": {
      "image/png": "[encoded data removed]",
      "text/plain": [
       "<Figure size 1080x504 with 1 Axes>"
      ]
     },
     "metadata": {
      "needs_background": "light"
     },
     "output_type": "display_data"
    },
    {
     "data": {
      "image/png": "[encoded data removed]",
      "text/plain": [
       "<Figure size 1080x504 with 1 Axes>"
      ]
     },
     "metadata": {
      "needs_background": "light"
     },
     "output_type": "display_data"
    }
   ],
   "source": [
    "#Year-wise Monthly Sales\n",
    "\n",
    "plt.figure(figsize=(15,7))\n",
    "plt.scatter(walmart_data[walmart_data.Year==2010][\"Month\"],walmart_data[walmart_data.Year==2010][\"Weekly_Sales\"])\n",
    "plt.xlabel(\"Months\")\n",
    "plt.ylabel(\"Weekly Sales\")\n",
    "plt.title(\"Monthly view of sales in 2010\")\n",
    "plt.show()\n",
    "\n",
    "plt.figure(figsize=(15,7))\n",
    "plt.scatter(walmart_data[walmart_data.Year==2011][\"Month\"],walmart_data[walmart_data.Year==2011][\"Weekly_Sales\"])\n",
    "plt.xlabel(\"Months\")\n",
    "plt.ylabel(\"Weekly Sales\")\n",
    "plt.title(\"Monthly view of sales in 2011\")\n",
    "plt.show()\n",
    "\n",
    "plt.figure(figsize=(15,7))\n",
    "plt.scatter(walmart_data[walmart_data.Year==2012][\"Month\"],walmart_data[walmart_data.Year==2012][\"Weekly_Sales\"])\n",
    "plt.xlabel(\"Months\")\n",
    "plt.ylabel(\"Weekly Sales\")\n",
    "plt.title(\"Monthly view of sales in 2012\")\n",
    "plt.show()"
   ]
  },
  {
   "cell_type": "code",
   "execution_count": 20,
   "metadata": {
    "execution": {
     "iopub.execute_input": "2021-07-31T10:35:10.329021Z",
     "iopub.status.busy": "2021-07-31T10:35:10.328723Z",
     "iopub.status.idle": "2021-07-31T10:35:23.221772Z",
     "shell.execute_reply": "2021-07-31T10:35:23.220791Z",
     "shell.execute_reply.started": "2021-07-31T10:35:10.328991Z"
    }
   },
   "outputs": [
    {
     "data": {
      "image/png": "[encoded data removed]",
      "text/plain": [
       "<Figure size 1080x504 with 1 Axes>"
      ]
     },
     "metadata": {
      "needs_background": "light"
     },
     "output_type": "display_data"
    }
   ],
   "source": [
    "#Overall Monthly Sales\n",
    "plt.figure(figsize=(15,7))\n",
    "plt.bar(walmart_data[\"Month\"],walmart_data[\"Weekly_Sales\"])\n",
    "plt.xlabel(\"Months\")\n",
    "plt.ylabel(\"Weekly Sales\")\n",
    "plt.title(\"Monthly view of sales\")\n",
    "plt.show()"
   ]
  },
  {
   "cell_type": "code",
   "execution_count": 21,
   "metadata": {
    "execution": {
     "iopub.execute_input": "2021-07-31T10:35:23.223638Z",
     "iopub.status.busy": "2021-07-31T10:35:23.223218Z",
     "iopub.status.idle": "2021-07-31T10:35:23.366847Z",
     "shell.execute_reply": "2021-07-31T10:35:23.365921Z",
     "shell.execute_reply.started": "2021-07-31T10:35:23.223601Z"
    }
   },
   "outputs": [
    {
     "data": {
      "text/plain": [
       "<Figure size 1080x504 with 0 Axes>"
      ]
     },
     "metadata": {},
     "output_type": "display_data"
    },
    {
     "data": {
      "image/png": "[encoded data removed]",
      "text/plain": [
       "<Figure size 432x288 with 1 Axes>"
      ]
     },
     "metadata": {
      "needs_background": "light"
     },
     "output_type": "display_data"
    }
   ],
   "source": [
    "#Yearly Sales\n",
    "plt.figure(figsize=(15,7))\n",
    "walmart_data.groupby(\"Year\")[[\"Weekly_Sales\"]].sum().plot(kind='bar',legend=False)\n",
    "plt.xlabel(\"Years\")\n",
    "plt.ylabel(\"Weekly Sales\")\n",
    "plt.title(\"Yearly view of sales\")\n",
    "plt.show()"
   ]
  },
  {
   "cell_type": "markdown",
   "metadata": {},
   "source": [
    "**Here, overall monthly sales are higher in the month of December while the yearly sales in the year 2011 are the highest.**"
   ]
  },
  {
   "cell_type": "markdown",
   "metadata": {},
   "source": [
    " \n",
    "  ---"
   ]
  },
  {
   "cell_type": "markdown",
   "metadata": {},
   "source": [
    "#####  For Store 1 – Build  prediction models to forecast demand : Linear Regression – Utilize variables like date and restructure dates as 1 for 5 Feb 2010 (starting from the earliest date in order). Hypothesize if CPI, unemployment, and fuel price have any impact on sales. Change dates into days by creating new variable. Select the model which gives best accuracy."
   ]
  },
  {
   "cell_type": "code",
   "execution_count": 22,
   "metadata": {
    "execution": {
     "iopub.execute_input": "2021-07-31T10:35:23.368196Z",
     "iopub.status.busy": "2021-07-31T10:35:23.367923Z",
     "iopub.status.idle": "2021-07-31T10:35:23.857098Z",
     "shell.execute_reply": "2021-07-31T10:35:23.856273Z",
     "shell.execute_reply.started": "2021-07-31T10:35:23.36817Z"
    }
   },
   "outputs": [
    {
     "data": {
      "image/png": "[encoded data removed]",
      "text/plain": [
       "<Figure size 1152x1152 with 4 Axes>"
      ]
     },
     "metadata": {
      "needs_background": "light"
     },
     "output_type": "display_data"
    }
   ],
   "source": [
    "#Detecting outliers :\n",
    "fig, axis = plt.subplots(4,figsize=(16,16))\n",
    "X = walmart_data[['Temperature','Fuel_Price','CPI','Unemployment']]\n",
    "for i,column in enumerate(X):\n",
    "    sns.boxplot(walmart_data[column],ax=axis[i])\n",
    "    \n",
    "import warnings\n",
    "warnings.filterwarnings('ignore')"
   ]
  },
  {
   "cell_type": "code",
   "execution_count": 23,
   "metadata": {
    "execution": {
     "iopub.execute_input": "2021-07-31T10:35:23.858986Z",
     "iopub.status.busy": "2021-07-31T10:35:23.858566Z",
     "iopub.status.idle": "2021-07-31T10:35:23.892353Z",
     "shell.execute_reply": "2021-07-31T10:35:23.891403Z",
     "shell.execute_reply.started": "2021-07-31T10:35:23.858929Z"
    }
   },
   "outputs": [
    {
     "data": {
      "text/html": [
       "<div>\n",
       "<style scoped>\n",
       "    .dataframe tbody tr th:only-of-type {\n",
       "        vertical-align: middle;\n",
       "    }\n",
       "\n",
       "    .dataframe tbody tr th {\n",
       "        vertical-align: top;\n",
       "    }\n",
       "\n",
       "    .dataframe thead th {\n",
       "        text-align: right;\n",
       "    }\n",
       "</style>\n",
       "<table border=\"1\" class=\"dataframe\">\n",
       "  <thead>\n",
       "    <tr style=\"text-align: right;\">\n",
       "      <th></th>\n",
       "      <th>Store</th>\n",
       "      <th>Date</th>\n",
       "      <th>Weekly_Sales</th>\n",
       "      <th>Holiday_Flag</th>\n",
       "      <th>Temperature</th>\n",
       "      <th>Fuel_Price</th>\n",
       "      <th>CPI</th>\n",
       "      <th>Unemployment</th>\n",
       "      <th>Day</th>\n",
       "      <th>Month</th>\n",
       "      <th>Year</th>\n",
       "    </tr>\n",
       "  </thead>\n",
       "  <tbody>\n",
       "    <tr>\n",
       "      <th>0</th>\n",
       "      <td>1</td>\n",
       "      <td>2010-05-02</td>\n",
       "      <td>1643690.90</td>\n",
       "      <td>0</td>\n",
       "      <td>42.31</td>\n",
       "      <td>2.572</td>\n",
       "      <td>211.096358</td>\n",
       "      <td>8.106</td>\n",
       "      <td>2</td>\n",
       "      <td>5</td>\n",
       "      <td>2010</td>\n",
       "    </tr>\n",
       "    <tr>\n",
       "      <th>1</th>\n",
       "      <td>1</td>\n",
       "      <td>2010-12-02</td>\n",
       "      <td>1641957.44</td>\n",
       "      <td>1</td>\n",
       "      <td>38.51</td>\n",
       "      <td>2.548</td>\n",
       "      <td>211.242170</td>\n",
       "      <td>8.106</td>\n",
       "      <td>2</td>\n",
       "      <td>12</td>\n",
       "      <td>2010</td>\n",
       "    </tr>\n",
       "    <tr>\n",
       "      <th>2</th>\n",
       "      <td>1</td>\n",
       "      <td>2010-02-19</td>\n",
       "      <td>1611968.17</td>\n",
       "      <td>0</td>\n",
       "      <td>39.93</td>\n",
       "      <td>2.514</td>\n",
       "      <td>211.289143</td>\n",
       "      <td>8.106</td>\n",
       "      <td>19</td>\n",
       "      <td>2</td>\n",
       "      <td>2010</td>\n",
       "    </tr>\n",
       "    <tr>\n",
       "      <th>3</th>\n",
       "      <td>1</td>\n",
       "      <td>2010-02-26</td>\n",
       "      <td>1409727.59</td>\n",
       "      <td>0</td>\n",
       "      <td>46.63</td>\n",
       "      <td>2.561</td>\n",
       "      <td>211.319643</td>\n",
       "      <td>8.106</td>\n",
       "      <td>26</td>\n",
       "      <td>2</td>\n",
       "      <td>2010</td>\n",
       "    </tr>\n",
       "    <tr>\n",
       "      <th>4</th>\n",
       "      <td>1</td>\n",
       "      <td>2010-05-03</td>\n",
       "      <td>1554806.68</td>\n",
       "      <td>0</td>\n",
       "      <td>46.50</td>\n",
       "      <td>2.625</td>\n",
       "      <td>211.350143</td>\n",
       "      <td>8.106</td>\n",
       "      <td>3</td>\n",
       "      <td>5</td>\n",
       "      <td>2010</td>\n",
       "    </tr>\n",
       "    <tr>\n",
       "      <th>...</th>\n",
       "      <td>...</td>\n",
       "      <td>...</td>\n",
       "      <td>...</td>\n",
       "      <td>...</td>\n",
       "      <td>...</td>\n",
       "      <td>...</td>\n",
       "      <td>...</td>\n",
       "      <td>...</td>\n",
       "      <td>...</td>\n",
       "      <td>...</td>\n",
       "      <td>...</td>\n",
       "    </tr>\n",
       "    <tr>\n",
       "      <th>6430</th>\n",
       "      <td>45</td>\n",
       "      <td>2012-09-28</td>\n",
       "      <td>713173.95</td>\n",
       "      <td>0</td>\n",
       "      <td>64.88</td>\n",
       "      <td>3.997</td>\n",
       "      <td>192.013558</td>\n",
       "      <td>8.684</td>\n",
       "      <td>28</td>\n",
       "      <td>9</td>\n",
       "      <td>2012</td>\n",
       "    </tr>\n",
       "    <tr>\n",
       "      <th>6431</th>\n",
       "      <td>45</td>\n",
       "      <td>2012-05-10</td>\n",
       "      <td>733455.07</td>\n",
       "      <td>0</td>\n",
       "      <td>64.89</td>\n",
       "      <td>3.985</td>\n",
       "      <td>192.170412</td>\n",
       "      <td>8.667</td>\n",
       "      <td>10</td>\n",
       "      <td>5</td>\n",
       "      <td>2012</td>\n",
       "    </tr>\n",
       "    <tr>\n",
       "      <th>6432</th>\n",
       "      <td>45</td>\n",
       "      <td>2012-12-10</td>\n",
       "      <td>734464.36</td>\n",
       "      <td>0</td>\n",
       "      <td>54.47</td>\n",
       "      <td>4.000</td>\n",
       "      <td>192.327265</td>\n",
       "      <td>8.667</td>\n",
       "      <td>10</td>\n",
       "      <td>12</td>\n",
       "      <td>2012</td>\n",
       "    </tr>\n",
       "    <tr>\n",
       "      <th>6433</th>\n",
       "      <td>45</td>\n",
       "      <td>2012-10-19</td>\n",
       "      <td>718125.53</td>\n",
       "      <td>0</td>\n",
       "      <td>56.47</td>\n",
       "      <td>3.969</td>\n",
       "      <td>192.330854</td>\n",
       "      <td>8.667</td>\n",
       "      <td>19</td>\n",
       "      <td>10</td>\n",
       "      <td>2012</td>\n",
       "    </tr>\n",
       "    <tr>\n",
       "      <th>6434</th>\n",
       "      <td>45</td>\n",
       "      <td>2012-10-26</td>\n",
       "      <td>760281.43</td>\n",
       "      <td>0</td>\n",
       "      <td>58.85</td>\n",
       "      <td>3.882</td>\n",
       "      <td>192.308899</td>\n",
       "      <td>8.667</td>\n",
       "      <td>26</td>\n",
       "      <td>10</td>\n",
       "      <td>2012</td>\n",
       "    </tr>\n",
       "  </tbody>\n",
       "</table>\n",
       "<p>5658 rows × 11 columns</p>\n",
       "</div>"
      ],
      "text/plain": [
       "      Store       Date  Weekly_Sales  Holiday_Flag  Temperature  Fuel_Price  \\\n",
       "0         1 2010-05-02    1643690.90             0        42.31       2.572   \n",
       "1         1 2010-12-02    1641957.44             1        38.51       2.548   \n",
       "2         1 2010-02-19    1611968.17             0        39.93       2.514   \n",
       "3         1 2010-02-26    1409727.59             0        46.63       2.561   \n",
       "4         1 2010-05-03    1554806.68             0        46.50       2.625   \n",
       "...     ...        ...           ...           ...          ...         ...   \n",
       "6430     45 2012-09-28     713173.95             0        64.88       3.997   \n",
       "6431     45 2012-05-10     733455.07             0        64.89       3.985   \n",
       "6432     45 2012-12-10     734464.36             0        54.47       4.000   \n",
       "6433     45 2012-10-19     718125.53             0        56.47       3.969   \n",
       "6434     45 2012-10-26     760281.43             0        58.85       3.882   \n",
       "\n",
       "             CPI  Unemployment  Day  Month  Year  \n",
       "0     211.096358         8.106    2      5  2010  \n",
       "1     211.242170         8.106    2     12  2010  \n",
       "2     211.289143         8.106   19      2  2010  \n",
       "3     211.319643         8.106   26      2  2010  \n",
       "4     211.350143         8.106    3      5  2010  \n",
       "...          ...           ...  ...    ...   ...  \n",
       "6430  192.013558         8.684   28      9  2012  \n",
       "6431  192.170412         8.667   10      5  2012  \n",
       "6432  192.327265         8.667   10     12  2012  \n",
       "6433  192.330854         8.667   19     10  2012  \n",
       "6434  192.308899         8.667   26     10  2012  \n",
       "\n",
       "[5658 rows x 11 columns]"
      ]
     },
     "execution_count": 23,
     "metadata": {},
     "output_type": "execute_result"
    }
   ],
   "source": [
    "# Dropping outliers     \n",
    "walmart_data_clean = walmart_data[(walmart_data['Unemployment']<10) & (walmart_data['Unemployment']>4.5) & (walmart_data['Temperature']>10)]\n",
    "walmart_data_clean"
   ]
  },
  {
   "cell_type": "code",
   "execution_count": 24,
   "metadata": {
    "execution": {
     "iopub.execute_input": "2021-07-31T10:35:23.894774Z",
     "iopub.status.busy": "2021-07-31T10:35:23.894353Z",
     "iopub.status.idle": "2021-07-31T10:35:24.400782Z",
     "shell.execute_reply": "2021-07-31T10:35:24.399586Z",
     "shell.execute_reply.started": "2021-07-31T10:35:23.894733Z"
    }
   },
   "outputs": [
    {
     "data": {
      "image/png": "[encoded data removed]",
      "text/plain": [
       "<Figure size 1152x1152 with 4 Axes>"
      ]
     },
     "metadata": {
      "needs_background": "light"
     },
     "output_type": "display_data"
    }
   ],
   "source": [
    "#Checking data for outliers\n",
    "fig, axis = plt.subplots(4,figsize=(16,16))\n",
    "X = walmart_data_clean[['Temperature','Fuel_Price','CPI','Unemployment']]\n",
    "for i,column in enumerate(X):\n",
    "    sns.boxplot(walmart_data_clean[column], ax=axis[i])\n",
    "\n",
    "import warnings\n",
    "warnings.filterwarnings('ignore')\n",
    "    "
   ]
  },
  {
   "cell_type": "code",
   "execution_count": 25,
   "metadata": {
    "execution": {
     "iopub.execute_input": "2021-07-31T10:35:24.402788Z",
     "iopub.status.busy": "2021-07-31T10:35:24.402375Z",
     "iopub.status.idle": "2021-07-31T10:35:24.578674Z",
     "shell.execute_reply": "2021-07-31T10:35:24.577134Z",
     "shell.execute_reply.started": "2021-07-31T10:35:24.402745Z"
    }
   },
   "outputs": [],
   "source": [
    "# Linear Regression :\n",
    "from sklearn.model_selection import train_test_split\n",
    "from sklearn import metrics\n",
    "from sklearn.linear_model import LinearRegression\n",
    "X = walmart_data_clean[['Store','Fuel_Price','CPI','Unemployment','Day','Month','Year']]\n",
    "Y = walmart_data_clean['Weekly_Sales']\n",
    "X_train, X_test, Y_train, Y_test = train_test_split(X,Y,test_size=0.2)"
   ]
  },
  {
   "cell_type": "code",
   "execution_count": 26,
   "metadata": {
    "execution": {
     "iopub.execute_input": "2021-07-31T10:35:24.580187Z",
     "iopub.status.busy": "2021-07-31T10:35:24.57987Z",
     "iopub.status.idle": "2021-07-31T10:35:24.864794Z",
     "shell.execute_reply": "2021-07-31T10:35:24.864099Z",
     "shell.execute_reply.started": "2021-07-31T10:35:24.580156Z"
    }
   },
   "outputs": [
    {
     "name": "stdout",
     "output_type": "stream",
     "text": [
      "Linear Regression:\n",
      "\n",
      "Accuracy: 13.038837815278569\n",
      "Mean Absolute Error: 445156.026544129\n",
      "Mean Squared Error: 289670424925.60767\n",
      "Root Mean Squared Error: 538210.3909491228\n"
     ]
    },
    {
     "data": {
      "image/png": "[encoded data removed]",
      "text/plain": [
       "<Figure size 432x288 with 1 Axes>"
      ]
     },
     "metadata": {
      "needs_background": "light"
     },
     "output_type": "display_data"
    }
   ],
   "source": [
    "print('Linear Regression:')\n",
    "print()\n",
    "reg = LinearRegression()\n",
    "reg.fit(X_train, Y_train)\n",
    "Y_pred = reg.predict(X_test)\n",
    "print('Accuracy:',reg.score(X_train, Y_train)*100)\n",
    "print('Mean Absolute Error:', metrics.mean_absolute_error(Y_test, Y_pred))\n",
    "print('Mean Squared Error:', metrics.mean_squared_error(Y_test, Y_pred))\n",
    "print('Root Mean Squared Error:', np.sqrt(metrics.mean_squared_error(Y_test, Y_pred)))\n",
    "sns.scatterplot(Y_pred, Y_test)\n",
    "\n",
    "import warnings\n",
    "warnings.filterwarnings('ignore')"
   ]
  },
  {
   "cell_type": "code",
   "execution_count": 27,
   "metadata": {
    "execution": {
     "iopub.execute_input": "2021-07-31T10:35:24.866165Z",
     "iopub.status.busy": "2021-07-31T10:35:24.865765Z",
     "iopub.status.idle": "2021-07-31T10:35:27.108286Z",
     "shell.execute_reply": "2021-07-31T10:35:27.107275Z",
     "shell.execute_reply.started": "2021-07-31T10:35:24.866136Z"
    }
   },
   "outputs": [
    {
     "name": "stdout",
     "output_type": "stream",
     "text": [
      "Random Forest Regressor:\n",
      "\n",
      "Accuracy: 94.96153509014026\n",
      "Mean Absolute Error: 67112.75647932861\n",
      "Mean Squared Error: 16621977186.442928\n",
      "Root Mean Squared Error: 128926.24708120115\n"
     ]
    },
    {
     "data": {
      "image/png": "[encoded data removed]",
      "text/plain": [
       "<Figure size 432x288 with 1 Axes>"
      ]
     },
     "metadata": {
      "needs_background": "light"
     },
     "output_type": "display_data"
    }
   ],
   "source": [
    "# Random Forest Regressor\n",
    "from sklearn.ensemble import RandomForestRegressor\n",
    "print('Random Forest Regressor:')\n",
    "print()\n",
    "rfr = RandomForestRegressor()        \n",
    "rfr.fit(X_train,Y_train)\n",
    "Y_pred = rfr.predict(X_test)\n",
    "print('Accuracy:',rfr.score(X_test, Y_test)*100)\n",
    "print('Mean Absolute Error:', metrics.mean_absolute_error(Y_test, Y_pred))\n",
    "print('Mean Squared Error:', metrics.mean_squared_error(Y_test, Y_pred))\n",
    "print('Root Mean Squared Error:', np.sqrt(metrics.mean_squared_error(Y_test, Y_pred)))\n",
    "sns.scatterplot(Y_pred, Y_test)\n",
    "\n",
    "\n",
    "import warnings\n",
    "warnings.filterwarnings('ignore')"
   ]
  },
  {
   "cell_type": "markdown",
   "metadata": {},
   "source": [
    "## 3. Conclusion"
   ]
  },
  {
   "cell_type": "markdown",
   "metadata": {},
   "source": [
    "### Here, Linear Regression is not an appropriate model to use which is clear from it's low accuracy. However, Random Forest Regression gives accuracy of over 95% , so, it is the best model to forecast demand."
   ]
  },
  {
   "cell_type": "markdown",
   "metadata": {},
   "source": [
    " \n",
    " "
   ]
  },
  {
   "cell_type": "code",
   "execution_count": null,
   "metadata": {},
   "outputs": [],
   "source": []
  }
 ],
 "metadata": {
  "kernelspec": {
   "display_name": "Python 3",
   "language": "python",
   "name": "python3"
  },
  "language_info": {
   "codemirror_mode": {
    "name": "ipython",
    "version": 3
   },
   "file_extension": ".py",
   "mimetype": "text/x-python",
   "name": "python",
   "nbconvert_exporter": "python",
   "pygments_lexer": "ipython3",
   "version": "3.8.5"
  }
 },
 "nbformat": 4,
 "nbformat_minor": 4
}
